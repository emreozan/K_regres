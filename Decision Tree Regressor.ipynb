{
 "cells": [
  {
   "cell_type": "code",
   "execution_count": 86,
   "metadata": {},
   "outputs": [],
   "source": [
    "#library cell\n",
    "\n",
    "import pandas as pd\n",
    "\n",
    "import matplotlib.pyplot as plt\n",
    "from sklearn.model_selection import train_test_split\n",
    "from sklearn.linear_model import LinearRegression\n",
    "from sklearn.linear_model import Ridge\n",
    "\n",
    "from sklearn.impute import SimpleImputer\n",
    "\n",
    "from sklearn import preprocessing\n",
    "\n",
    "from sklearn.svm import SVR\n",
    "\n",
    "#decisioan tree için\n",
    "from sklearn.tree import DecisionTreeRegressor"
   ]
  },
  {
   "cell_type": "code",
   "execution_count": 87,
   "metadata": {},
   "outputs": [],
   "source": [
    "#train dosyasını import ettik\n",
    "df=pd.read_csv(\"train.csv\") \n",
    "\n",
    "#got rid of these columns because they had too much missing data\n",
    "df=df.drop([\"Alley\",\"FireplaceQu\",\"PoolQC\",\"Fence\",\"MiscFeature\"],axis=1) \n",
    "\n",
    "#missing data lı numerical ları impute ile doldurduk\n",
    "df_num_impute=df[[\"LotFrontage\",\"MasVnrArea\",\"GarageYrBlt\"]]\n",
    "imputer=SimpleImputer(strategy=\"mean\")\n",
    "imputer.fit(df_num_impute)\n",
    "X=imputer.transform(df_num_impute)\n",
    "df2=pd.DataFrame(X,columns=df_num_impute.columns)\n",
    "df[[\"LotFrontage\",\"MasVnrArea\",\"GarageYrBlt\"]]=df2[[\"LotFrontage\",\"MasVnrArea\",\"GarageYrBlt\"]]\n",
    "\n",
    "#kategorileri attık\n",
    "df=df.select_dtypes(exclude=\"object\")\n",
    "\n",
    "#feature ve labellerı ayırdık\n",
    "X,y=df.drop([\"SalePrice\",\"Id\"],axis=1),df[\"SalePrice\"]\n",
    "\n",
    "X_train, X_test, y_train, y_test=train_test_split(X,y,random_state=0)\n",
    "#create train and test data\n",
    "\n"
   ]
  },
  {
   "cell_type": "code",
   "execution_count": 88,
   "metadata": {},
   "outputs": [
    {
     "data": {
      "text/plain": [
       "(0.8651137179031694, 0.8087708934199785)"
      ]
     },
     "execution_count": 88,
     "metadata": {},
     "output_type": "execute_result"
    }
   ],
   "source": [
    "#decision tree\n",
    "d_tree=DecisionTreeRegressor(max_depth=5,random_state=5)\n",
    "d_tree.fit(X_train, y_train)\n",
    "\n",
    "d_tree.score(X_train,y_train), d_tree.score(X_test,y_test)"
   ]
  },
  {
   "cell_type": "code",
   "execution_count": 89,
   "metadata": {},
   "outputs": [],
   "source": [
    "#TEST.CSV İÇİN BURASI data prep\n",
    "\n",
    "df_test=pd.read_csv(\"test.csv\")\n",
    "#test dosyasını yükledik\n",
    "#test csv yi hazırla\n",
    "df_test=df_test.drop([\"Alley\",\"FireplaceQu\",\"PoolQC\",\"Fence\",\"MiscFeature\"],axis=1) \n",
    "#got rid of these columns because they had too much missing data\n",
    "df_test_num_impute=df[[\"LotFrontage\",\"MasVnrArea\",\"GarageYrBlt\"]]\n",
    "df_test_num_impute.head()\n",
    "imputer=SimpleImputer(strategy=\"mean\")\n",
    "imputer.fit(df_test_num_impute)\n",
    "X=imputer.transform(df_test_num_impute)\n",
    "df2_test=pd.DataFrame(X,columns=df_num_impute.columns)\n",
    "df_test[[\"LotFrontage\",\"MasVnrArea\",\"GarageYrBlt\"]]=df2_test[[\"LotFrontage\",\"MasVnrArea\",\"GarageYrBlt\"]]\n",
    "df_test=df_test.select_dtypes(exclude=\"object\")\n",
    "df_test_num_impute=df_test[[\"BsmtFinSF1\",\"BsmtFinSF2\",\"BsmtUnfSF\",\"BsmtFullBath\",\"BsmtHalfBath\",\"GarageCars\",\"GarageArea\",\"TotalBsmtSF\"]]\n",
    "imputer=SimpleImputer(strategy=\"mean\")\n",
    "imputer.fit(df_test_num_impute)\n",
    "X=imputer.transform(df_test_num_impute)\n",
    "df_var=pd.DataFrame(X,columns=df_test_num_impute.columns)\n",
    "X.shape\n",
    "df_test[[\"BsmtFinSF1\",\"BsmtFinSF2\",\"BsmtUnfSF\",\"BsmtFullBath\",\"BsmtHalfBath\",\"GarageCars\",\"GarageArea\",\"TotalBsmtSF\"]]=df_var[[\"BsmtFinSF1\",\"BsmtFinSF2\",\"BsmtUnfSF\",\"BsmtFullBath\",\"BsmtHalfBath\",\"GarageCars\",\"GarageArea\",\"TotalBsmtSF\"]]\n",
    "\n"
   ]
  },
  {
   "cell_type": "code",
   "execution_count": 90,
   "metadata": {},
   "outputs": [
    {
     "data": {
      "text/html": [
       "<div>\n",
       "<style scoped>\n",
       "    .dataframe tbody tr th:only-of-type {\n",
       "        vertical-align: middle;\n",
       "    }\n",
       "\n",
       "    .dataframe tbody tr th {\n",
       "        vertical-align: top;\n",
       "    }\n",
       "\n",
       "    .dataframe thead th {\n",
       "        text-align: right;\n",
       "    }\n",
       "</style>\n",
       "<table border=\"1\" class=\"dataframe\">\n",
       "  <thead>\n",
       "    <tr style=\"text-align: right;\">\n",
       "      <th></th>\n",
       "      <th>SalePrice</th>\n",
       "    </tr>\n",
       "  </thead>\n",
       "  <tbody>\n",
       "    <tr>\n",
       "      <th>0</th>\n",
       "      <td>119605.597826</td>\n",
       "    </tr>\n",
       "    <tr>\n",
       "      <th>1</th>\n",
       "      <td>146812.346405</td>\n",
       "    </tr>\n",
       "    <tr>\n",
       "      <th>2</th>\n",
       "      <td>174634.507042</td>\n",
       "    </tr>\n",
       "    <tr>\n",
       "      <th>3</th>\n",
       "      <td>174634.507042</td>\n",
       "    </tr>\n",
       "    <tr>\n",
       "      <th>4</th>\n",
       "      <td>220464.333333</td>\n",
       "    </tr>\n",
       "  </tbody>\n",
       "</table>\n",
       "</div>"
      ],
      "text/plain": [
       "       SalePrice\n",
       "0  119605.597826\n",
       "1  146812.346405\n",
       "2  174634.507042\n",
       "3  174634.507042\n",
       "4  220464.333333"
      ]
     },
     "execution_count": 90,
     "metadata": {},
     "output_type": "execute_result"
    }
   ],
   "source": [
    "#test.csv için tahminler\n",
    "X=df_test.drop([\"Id\"],axis=1)\n",
    "results=pd.DataFrame(d_tree.predict(X))\n",
    "results.columns=[\"SalePrice\"]\n",
    "results.head()"
   ]
  },
  {
   "cell_type": "code",
   "execution_count": 91,
   "metadata": {},
   "outputs": [
    {
     "data": {
      "text/html": [
       "<div>\n",
       "<style scoped>\n",
       "    .dataframe tbody tr th:only-of-type {\n",
       "        vertical-align: middle;\n",
       "    }\n",
       "\n",
       "    .dataframe tbody tr th {\n",
       "        vertical-align: top;\n",
       "    }\n",
       "\n",
       "    .dataframe thead th {\n",
       "        text-align: right;\n",
       "    }\n",
       "</style>\n",
       "<table border=\"1\" class=\"dataframe\">\n",
       "  <thead>\n",
       "    <tr style=\"text-align: right;\">\n",
       "      <th></th>\n",
       "      <th>Id</th>\n",
       "      <th>SalePrice</th>\n",
       "    </tr>\n",
       "  </thead>\n",
       "  <tbody>\n",
       "    <tr>\n",
       "      <th>0</th>\n",
       "      <td>1461</td>\n",
       "      <td>119605.597826</td>\n",
       "    </tr>\n",
       "    <tr>\n",
       "      <th>1</th>\n",
       "      <td>1462</td>\n",
       "      <td>146812.346405</td>\n",
       "    </tr>\n",
       "    <tr>\n",
       "      <th>2</th>\n",
       "      <td>1463</td>\n",
       "      <td>174634.507042</td>\n",
       "    </tr>\n",
       "    <tr>\n",
       "      <th>3</th>\n",
       "      <td>1464</td>\n",
       "      <td>174634.507042</td>\n",
       "    </tr>\n",
       "    <tr>\n",
       "      <th>4</th>\n",
       "      <td>1465</td>\n",
       "      <td>220464.333333</td>\n",
       "    </tr>\n",
       "  </tbody>\n",
       "</table>\n",
       "</div>"
      ],
      "text/plain": [
       "     Id      SalePrice\n",
       "0  1461  119605.597826\n",
       "1  1462  146812.346405\n",
       "2  1463  174634.507042\n",
       "3  1464  174634.507042\n",
       "4  1465  220464.333333"
      ]
     },
     "execution_count": 91,
     "metadata": {},
     "output_type": "execute_result"
    }
   ],
   "source": [
    "#test.csv için dataframe\n",
    "df_results=pd.DataFrame()\n",
    "df_results[\"Id\"]=df_test[\"Id\"]\n",
    "df_results[\"SalePrice\"]=results[\"SalePrice\"]\n",
    "df_results.head()"
   ]
  },
  {
   "cell_type": "code",
   "execution_count": 92,
   "metadata": {},
   "outputs": [],
   "source": [
    "df_results.to_csv(\"res.csv\", index=False)"
   ]
  }
 ],
 "metadata": {
  "kernelspec": {
   "display_name": "Python 3",
   "language": "python",
   "name": "python3"
  },
  "language_info": {
   "codemirror_mode": {
    "name": "ipython",
    "version": 3
   },
   "file_extension": ".py",
   "mimetype": "text/x-python",
   "name": "python",
   "nbconvert_exporter": "python",
   "pygments_lexer": "ipython3",
   "version": "3.6.2"
  }
 },
 "nbformat": 4,
 "nbformat_minor": 2
}
