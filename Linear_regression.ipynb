{
 "cells": [
  {
   "cell_type": "code",
   "execution_count": 42,
   "metadata": {},
   "outputs": [],
   "source": [
    "#library cell\n",
    "\n",
    "import pandas as pd\n",
    "\n",
    "import matplotlib.pyplot as plt\n",
    "from sklearn.model_selection import train_test_split\n",
    "from sklearn.linear_model import LinearRegression\n",
    "from sklearn.linear_model import Ridge\n",
    "\n",
    "from sklearn.impute import SimpleImputer\n",
    "\n",
    "from sklearn import preprocessing\n",
    "\n",
    "from sklearn.svm import SVR"
   ]
  },
  {
   "cell_type": "code",
   "execution_count": 43,
   "metadata": {},
   "outputs": [],
   "source": [
    "#train dosyasını import ettik\n",
    "df=pd.read_csv(\"train.csv\") \n",
    "\n",
    "#got rid of these columns because they had too much missing data\n",
    "df=df.drop([\"Alley\",\"FireplaceQu\",\"PoolQC\",\"Fence\",\"MiscFeature\"],axis=1) \n",
    "\n",
    "#missing data lı numerical ları impute ile doldurduk\n",
    "df_num_impute=df[[\"LotFrontage\",\"MasVnrArea\",\"GarageYrBlt\"]]\n",
    "imputer=SimpleImputer(strategy=\"mean\")\n",
    "imputer.fit(df_num_impute)\n",
    "X=imputer.transform(df_num_impute)\n",
    "df2=pd.DataFrame(X,columns=df_num_impute.columns)\n",
    "df[[\"LotFrontage\",\"MasVnrArea\",\"GarageYrBlt\"]]=df2[[\"LotFrontage\",\"MasVnrArea\",\"GarageYrBlt\"]]\n",
    "\n",
    "#kategorileri attık\n",
    "df=df.select_dtypes(exclude=\"object\")\n",
    "\n",
    "#feature ve labellerı ayırdık\n",
    "X,y=df.drop([\"SalePrice\",\"Id\"],axis=1),df[\"SalePrice\"]\n",
    "\n",
    "X_train, X_test, y_train, y_test=train_test_split(X,y,random_state=0)\n",
    "#create train and test data\n",
    "\n"
   ]
  },
  {
   "cell_type": "code",
   "execution_count": 44,
   "metadata": {},
   "outputs": [
    {
     "data": {
      "text/plain": [
       "(0.8448435518744951, 0.6806919317952956)"
      ]
     },
     "execution_count": 44,
     "metadata": {},
     "output_type": "execute_result"
    }
   ],
   "source": [
    "#train csv için linear regression\n",
    "lin_reg=LinearRegression()\n",
    "lin_reg.fit(X_train, y_train)\n",
    "lin_reg.score(X_train,y_train), lin_reg.score(X_test,y_test)\n",
    "\n",
    "#bu sonuca göre overfitting yapıyorum"
   ]
  },
  {
   "cell_type": "code",
   "execution_count": 45,
   "metadata": {},
   "outputs": [],
   "source": [
    "#test.csv data prep\n",
    "\n",
    "df_test=pd.read_csv(\"test.csv\")\n",
    "#test dosyasını yükledik\n",
    "#test csv yi hazırla\n",
    "df_test=df_test.drop([\"Alley\",\"FireplaceQu\",\"PoolQC\",\"Fence\",\"MiscFeature\"],axis=1) \n",
    "#got rid of these columns because they had too much missing data\n",
    "df_test_num_impute=df[[\"LotFrontage\",\"MasVnrArea\",\"GarageYrBlt\"]]\n",
    "df_test_num_impute.head()\n",
    "imputer=SimpleImputer(strategy=\"mean\")\n",
    "imputer.fit(df_test_num_impute)\n",
    "X=imputer.transform(df_test_num_impute)\n",
    "df2_test=pd.DataFrame(X,columns=df_num_impute.columns)\n",
    "df_test[[\"LotFrontage\",\"MasVnrArea\",\"GarageYrBlt\"]]=df2_test[[\"LotFrontage\",\"MasVnrArea\",\"GarageYrBlt\"]]\n",
    "df_test=df_test.select_dtypes(exclude=\"object\")\n",
    "df_test_num_impute=df_test[[\"BsmtFinSF1\",\"BsmtFinSF2\",\"BsmtUnfSF\",\"BsmtFullBath\",\"BsmtHalfBath\",\"GarageCars\",\"GarageArea\",\"TotalBsmtSF\"]]\n",
    "imputer=SimpleImputer(strategy=\"mean\")\n",
    "imputer.fit(df_test_num_impute)\n",
    "X=imputer.transform(df_test_num_impute)\n",
    "df_var=pd.DataFrame(X,columns=df_test_num_impute.columns)\n",
    "X.shape\n",
    "df_test[[\"BsmtFinSF1\",\"BsmtFinSF2\",\"BsmtUnfSF\",\"BsmtFullBath\",\"BsmtHalfBath\",\"GarageCars\",\"GarageArea\",\"TotalBsmtSF\"]]=df_var[[\"BsmtFinSF1\",\"BsmtFinSF2\",\"BsmtUnfSF\",\"BsmtFullBath\",\"BsmtHalfBath\",\"GarageCars\",\"GarageArea\",\"TotalBsmtSF\"]]\n"
   ]
  },
  {
   "cell_type": "code",
   "execution_count": 46,
   "metadata": {},
   "outputs": [
    {
     "data": {
      "text/html": [
       "<div>\n",
       "<style scoped>\n",
       "    .dataframe tbody tr th:only-of-type {\n",
       "        vertical-align: middle;\n",
       "    }\n",
       "\n",
       "    .dataframe tbody tr th {\n",
       "        vertical-align: top;\n",
       "    }\n",
       "\n",
       "    .dataframe thead th {\n",
       "        text-align: right;\n",
       "    }\n",
       "</style>\n",
       "<table border=\"1\" class=\"dataframe\">\n",
       "  <thead>\n",
       "    <tr style=\"text-align: right;\">\n",
       "      <th></th>\n",
       "      <th>SalePrice</th>\n",
       "    </tr>\n",
       "  </thead>\n",
       "  <tbody>\n",
       "    <tr>\n",
       "      <th>0</th>\n",
       "      <td>137307.774959</td>\n",
       "    </tr>\n",
       "    <tr>\n",
       "      <th>1</th>\n",
       "      <td>159288.568732</td>\n",
       "    </tr>\n",
       "    <tr>\n",
       "      <th>2</th>\n",
       "      <td>185914.073179</td>\n",
       "    </tr>\n",
       "    <tr>\n",
       "      <th>3</th>\n",
       "      <td>199132.491097</td>\n",
       "    </tr>\n",
       "    <tr>\n",
       "      <th>4</th>\n",
       "      <td>208762.222587</td>\n",
       "    </tr>\n",
       "  </tbody>\n",
       "</table>\n",
       "</div>"
      ],
      "text/plain": [
       "       SalePrice\n",
       "0  137307.774959\n",
       "1  159288.568732\n",
       "2  185914.073179\n",
       "3  199132.491097\n",
       "4  208762.222587"
      ]
     },
     "execution_count": 46,
     "metadata": {},
     "output_type": "execute_result"
    }
   ],
   "source": [
    "#test.csv için tahminler\n",
    "X=df_test.drop([\"Id\"],axis=1)\n",
    "results=pd.DataFrame(lin_reg.predict(X))\n",
    "results.columns=[\"SalePrice\"]\n",
    "results.head()"
   ]
  },
  {
   "cell_type": "code",
   "execution_count": 47,
   "metadata": {},
   "outputs": [
    {
     "data": {
      "text/html": [
       "<div>\n",
       "<style scoped>\n",
       "    .dataframe tbody tr th:only-of-type {\n",
       "        vertical-align: middle;\n",
       "    }\n",
       "\n",
       "    .dataframe tbody tr th {\n",
       "        vertical-align: top;\n",
       "    }\n",
       "\n",
       "    .dataframe thead th {\n",
       "        text-align: right;\n",
       "    }\n",
       "</style>\n",
       "<table border=\"1\" class=\"dataframe\">\n",
       "  <thead>\n",
       "    <tr style=\"text-align: right;\">\n",
       "      <th></th>\n",
       "      <th>Id</th>\n",
       "      <th>SalePrice</th>\n",
       "    </tr>\n",
       "  </thead>\n",
       "  <tbody>\n",
       "    <tr>\n",
       "      <th>0</th>\n",
       "      <td>1461</td>\n",
       "      <td>137307.774959</td>\n",
       "    </tr>\n",
       "    <tr>\n",
       "      <th>1</th>\n",
       "      <td>1462</td>\n",
       "      <td>159288.568732</td>\n",
       "    </tr>\n",
       "    <tr>\n",
       "      <th>2</th>\n",
       "      <td>1463</td>\n",
       "      <td>185914.073179</td>\n",
       "    </tr>\n",
       "    <tr>\n",
       "      <th>3</th>\n",
       "      <td>1464</td>\n",
       "      <td>199132.491097</td>\n",
       "    </tr>\n",
       "    <tr>\n",
       "      <th>4</th>\n",
       "      <td>1465</td>\n",
       "      <td>208762.222587</td>\n",
       "    </tr>\n",
       "  </tbody>\n",
       "</table>\n",
       "</div>"
      ],
      "text/plain": [
       "     Id      SalePrice\n",
       "0  1461  137307.774959\n",
       "1  1462  159288.568732\n",
       "2  1463  185914.073179\n",
       "3  1464  199132.491097\n",
       "4  1465  208762.222587"
      ]
     },
     "execution_count": 47,
     "metadata": {},
     "output_type": "execute_result"
    }
   ],
   "source": [
    "#test.csv için dataframe\n",
    "df_results=pd.DataFrame()\n",
    "df_results[\"Id\"]=df_test[\"Id\"]\n",
    "df_results[\"SalePrice\"]=results[\"SalePrice\"]\n",
    "df_results.head()"
   ]
  },
  {
   "cell_type": "code",
   "execution_count": 48,
   "metadata": {},
   "outputs": [],
   "source": [
    "#kayıt için\n",
    "df_results.to_csv(\"deneme.csv\", index=False)"
   ]
  }
 ],
 "metadata": {
  "kernelspec": {
   "display_name": "Python 3",
   "language": "python",
   "name": "python3"
  },
  "language_info": {
   "codemirror_mode": {
    "name": "ipython",
    "version": 3
   },
   "file_extension": ".py",
   "mimetype": "text/x-python",
   "name": "python",
   "nbconvert_exporter": "python",
   "pygments_lexer": "ipython3",
   "version": "3.6.2"
  }
 },
 "nbformat": 4,
 "nbformat_minor": 2
}
